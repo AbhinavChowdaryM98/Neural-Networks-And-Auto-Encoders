{
  "cells": [
    {
      "cell_type": "markdown",
      "id": "5b7c2e76",
      "metadata": {
        "id": "5b7c2e76"
      },
      "source": [
        "# Assignment 3\n",
        "\n",
        "## Instructions\n",
        "- Run this notebook on ```Google Colab(preferable)```\n",
        "- Write your code and analysis in the indicated cells.\n",
        "- Ensure that this notebook runs without errors when the cells are run in sequence.\n",
        "- Do not attempt to change the contents of other cells. \n",
        "\n",
        "## Packages Used\n",
        "- Keras [link](https://keras.io/guides/)\n",
        "\n",
        "## Submission\n",
        "- Rename the notebook to `<roll_number>_Assignment3_Q1.ipynb`."
      ]
    },
    {
      "cell_type": "markdown",
      "id": "81a04618",
      "metadata": {
        "id": "81a04618"
      },
      "source": [
        "## Question 1"
      ]
    },
    {
      "cell_type": "markdown",
      "id": "b7be834e",
      "metadata": {
        "id": "b7be834e"
      },
      "source": [
        "This question is based on seminal work by Zhang et al. The paper is titled 'Understanding deep learning requires rethinking generalization'. The paper talks about how the traditional methods fail to explain generalization of neural network. They show that a sufficiently parameterized network can easily fit a random labeling of the training data. This fitting cannot be curbed by explicit regularization.\n"
      ]
    },
    {
      "cell_type": "markdown",
      "id": "c1082657",
      "metadata": {
        "id": "c1082657"
      },
      "source": [
        "## Q) 1.1 \n",
        "Lets take a hello world dataset for ML algorithm the MNIST!\n",
        "This question requires you to train a convolutional neural network.\n",
        "Architecture: 4 layers of convolution with 64 filters in each layer. Keep activation map size same using padding."
      ]
    },
    {
      "cell_type": "code",
      "execution_count": 49,
      "id": "d93211d0",
      "metadata": {
        "id": "d93211d0"
      },
      "outputs": [],
      "source": [
        "from tensorflow import keras   # feel free to use MNIST data from other sources\n",
        "from tensorflow.keras import layers\n",
        "import numpy as np"
      ]
    },
    {
      "cell_type": "code",
      "execution_count": 50,
      "id": "c4301e9e",
      "metadata": {
        "id": "c4301e9e"
      },
      "outputs": [],
      "source": [
        "(x_train, y_train), (x_test, y_test) = keras.datasets.mnist.load_data()"
      ]
    },
    {
      "cell_type": "code",
      "execution_count": 51,
      "id": "8f8db95a",
      "metadata": {
        "colab": {
          "base_uri": "https://localhost:8080/"
        },
        "id": "8f8db95a",
        "outputId": "0f4cbe09-8540-4e8f-ec17-cd48fa0ec972"
      },
      "outputs": [
        {
          "name": "stdout",
          "output_type": "stream",
          "text": [
            "Train data shape: (60000, 28, 28, 1)\n",
            "60000 train samples\n",
            "10000 test samples\n"
          ]
        }
      ],
      "source": [
        "x_train = x_train.astype(\"float32\") / 255\n",
        "x_test = x_test.astype(\"float32\") / 255\n",
        "\n",
        "x_train = np.expand_dims(x_train, -1)\n",
        "x_test = np.expand_dims(x_test, -1)\n",
        "\n",
        "print(\"Train data shape:\", x_train.shape)\n",
        "print(x_train.shape[0], \"train samples\")\n",
        "print(x_test.shape[0], \"test samples\")"
      ]
    },
    {
      "cell_type": "markdown",
      "id": "c2f5bafd",
      "metadata": {
        "id": "c2f5bafd"
      },
      "source": [
        "#### One-hot-encode your labels here"
      ]
    },
    {
      "cell_type": "code",
      "execution_count": 52,
      "id": "73520c0c",
      "metadata": {
        "colab": {
          "base_uri": "https://localhost:8080/"
        },
        "id": "73520c0c",
        "outputId": "b28fbc8f-2168-4efe-f52e-81cfd36646d1"
      },
      "outputs": [
        {
          "name": "stdout",
          "output_type": "stream",
          "text": [
            "label shape:  (60000,) (10000,)\n",
            "label shape:  (60000, 10) (10000, 10)\n"
          ]
        }
      ],
      "source": [
        "print ('label shape: ',np.shape(y_train),np.shape(y_test))\n",
        "def encode(y):\n",
        "  y_final = []\n",
        "  for i in y:\n",
        "    tmp = np.zeros(10)\n",
        "    tmp[i] = 1\n",
        "    y_final.append(tmp)\n",
        "  return np.array(y_final)\n",
        "\n",
        "y_train = encode(y_train)\n",
        "y_test = encode(y_test)\n",
        "print ('label shape: ',np.shape(y_train),np.shape(y_test))"
      ]
    },
    {
      "cell_type": "code",
      "execution_count": 53,
      "id": "53fqf3txQni3",
      "metadata": {
        "colab": {
          "base_uri": "https://localhost:8080/"
        },
        "id": "53fqf3txQni3",
        "outputId": "7525e804-bf2a-4aa6-d9a8-69c068092325"
      },
      "outputs": [
        {
          "data": {
            "text/plain": [
              "array([0., 0., 0., 0., 0., 1., 0., 0., 0., 0.])"
            ]
          },
          "execution_count": 53,
          "metadata": {},
          "output_type": "execute_result"
        }
      ],
      "source": [
        "y_train[0]"
      ]
    },
    {
      "cell_type": "markdown",
      "id": "38b8a6fa",
      "metadata": {
        "id": "38b8a6fa"
      },
      "source": [
        "#### Define the model mentioned above\n",
        "    1) Print the number of trainable parameters\n",
        "     Use sgd optimizer with softmax at last layer \n",
        "     Train the model until convergence (use test data only for model selection and early stopping!)\n",
        "    2) Report the train and test accuracy\n",
        "    3) Plot the train and test accuracy and loss throughout the training"
      ]
    },
    {
      "cell_type": "code",
      "execution_count": 54,
      "id": "uETIwdvh2LFl",
      "metadata": {
        "id": "uETIwdvh2LFl"
      },
      "outputs": [],
      "source": [
        "from tensorflow.keras.callbacks import EarlyStopping\n",
        "from tensorflow.keras.layers import Conv2D,MaxPool2D,Flatten,Dropout\n",
        "\n",
        "early_stopping = EarlyStopping(\n",
        "    min_delta=0.001,\n",
        "    patience=4,\n",
        "    restore_best_weights=True,\n",
        ")"
      ]
    },
    {
      "cell_type": "code",
      "execution_count": 55,
      "id": "novel-gambling",
      "metadata": {
        "colab": {
          "base_uri": "https://localhost:8080/"
        },
        "id": "novel-gambling",
        "outputId": "e76b7894-c1c4-4fd4-d993-3912f315974f"
      },
      "outputs": [
        {
          "name": "stdout",
          "output_type": "stream",
          "text": [
            "Epoch 1/10\n",
            "469/469 [==============================] - 33s 70ms/step - loss: 0.0900 - accuracy: 0.1051 - val_loss: 0.0899 - val_accuracy: 0.1142\n",
            "Epoch 2/10\n",
            "469/469 [==============================] - 33s 70ms/step - loss: 0.0899 - accuracy: 0.1384 - val_loss: 0.0899 - val_accuracy: 0.1502\n",
            "Epoch 3/10\n",
            "469/469 [==============================] - 32s 68ms/step - loss: 0.0898 - accuracy: 0.1822 - val_loss: 0.0897 - val_accuracy: 0.1948\n",
            "Epoch 4/10\n",
            "469/469 [==============================] - 33s 70ms/step - loss: 0.0897 - accuracy: 0.2388 - val_loss: 0.0896 - val_accuracy: 0.2602\n",
            "Epoch 5/10\n",
            "469/469 [==============================] - 32s 68ms/step - loss: 0.0894 - accuracy: 0.3050 - val_loss: 0.0893 - val_accuracy: 0.3202\n",
            "Epoch 6/10\n",
            "469/469 [==============================] - 32s 68ms/step - loss: 0.0891 - accuracy: 0.3386 - val_loss: 0.0888 - val_accuracy: 0.3488\n",
            "Epoch 7/10\n",
            "469/469 [==============================] - 33s 70ms/step - loss: 0.0883 - accuracy: 0.3601 - val_loss: 0.0877 - val_accuracy: 0.3670\n",
            "Epoch 8/10\n",
            "469/469 [==============================] - 33s 70ms/step - loss: 0.0864 - accuracy: 0.3905 - val_loss: 0.0842 - val_accuracy: 0.4203\n",
            "Epoch 9/10\n",
            "469/469 [==============================] - 32s 68ms/step - loss: 0.0758 - accuracy: 0.5069 - val_loss: 0.0588 - val_accuracy: 0.6599\n",
            "Epoch 10/10\n",
            "469/469 [==============================] - 32s 67ms/step - loss: 0.0382 - accuracy: 0.7673 - val_loss: 0.0213 - val_accuracy: 0.8821\n"
          ]
        }
      ],
      "source": [
        "#code here\n",
        "model = keras.Sequential(\n",
        "    [Conv2D(64,3,activation='relu',padding='same'),\n",
        "     Conv2D(64,3,activation='relu',padding='same'),\n",
        "     Conv2D(64,3,activation='relu',padding='same'),\n",
        "     Conv2D(64,3,activation='relu',padding='same'),\n",
        "     #MaxPool2D(2,2), #Pooling layer,\n",
        "     Flatten(),\n",
        "     layers.Dense(units=28*28,activation='relu'),\n",
        "     layers.Dense(units=28*14,activation='relu'),\n",
        "     layers.Dense(units=28*7,activation='relu'),\n",
        "     layers.Dense(units=28*2,activation='relu'),\n",
        "     layers.Dense(units=10, activation='softmax'),]\n",
        ")\n",
        "model.compile(\n",
        "    optimizer=\"sgd\",\n",
        "    loss=\"mse\",\n",
        "    metrics=\"accuracy\"\n",
        ")\n",
        "h = model.fit(\n",
        "    x_train, y_train,\n",
        "    validation_data=(x_test, y_test),\n",
        "    batch_size=128,\n",
        "    epochs=20,\n",
        "#    callbacks=[early_stopping],\n",
        ")"
      ]
    },
    {
      "cell_type": "code",
      "execution_count": 56,
      "id": "rERfPrZkT3Mp",
      "metadata": {
        "id": "rERfPrZkT3Mp"
      },
      "outputs": [],
      "source": [
        "Loss = h.history['loss']\n",
        "train_accuracy = h.history['accuracy']\n",
        "test_accuracy = h.history['val_accuracy']"
      ]
    },
    {
      "cell_type": "code",
      "execution_count": 57,
      "id": "iH5Wlyh0W5KK",
      "metadata": {
        "colab": {
          "base_uri": "https://localhost:8080/",
          "height": 265
        },
        "id": "iH5Wlyh0W5KK",
        "outputId": "8c023c96-fa3e-460f-98ed-f2580c606a52"
      },
      "outputs": [
        {
          "data": {
            "image/png": "[encoded data removed]",
            "text/plain": [
              "<Figure size 432x288 with 1 Axes>"
            ]
          },
          "metadata": {
            "needs_background": "light"
          },
          "output_type": "display_data"
        }
      ],
      "source": [
        "import matplotlib.pyplot as plt\n",
        "x = [i for i in range(1,11)]\n",
        "plt.plot(x,train_accuracy,label='Train Accuracy')\n",
        "plt.plot(x,test_accuracy,label='Test Accuracy')\n",
        "plt.legend()\n",
        "plt.show()"
      ]
    },
    {
      "cell_type": "code",
      "execution_count": 58,
      "id": "nmrxa0PUaQoF",
      "metadata": {
        "colab": {
          "base_uri": "https://localhost:8080/",
          "height": 265
        },
        "id": "nmrxa0PUaQoF",
        "outputId": "e97c4216-8386-4080-cd9f-1dca353dd1fe"
      },
      "outputs": [
        {
          "data": {
            "image/png": "[encoded data removed]",
            "text/plain": [
              "<Figure size 432x288 with 1 Axes>"
            ]
          },
          "metadata": {
            "needs_background": "light"
          },
          "output_type": "display_data"
        }
      ],
      "source": [
        "plt.plot(x, Loss)\n",
        "plt.show()"
      ]
    },
    {
      "cell_type": "markdown",
      "id": "003189e1",
      "metadata": {
        "id": "003189e1"
      },
      "source": [
        "## Q) 1.2\n",
        "Now lets start adding label noise to the dataset\n"
      ]
    },
    {
      "cell_type": "markdown",
      "id": "fc09bd79",
      "metadata": {
        "id": "fc09bd79"
      },
      "source": [
        "1) Randomize 20% of train labels and repeat Q1 (1,2 & 3)\n",
        "\n",
        "2) Randomize 40% of train labels and repeat Q1 (3)\n",
        "\n",
        "3) Randomize 60% of train labels and repeat Q1 (3)\n",
        "\n",
        "4) Randomize 80% of train labels and repeat Q1 (3)\n",
        "\n",
        "5) Randomize 100% of train labels and repeat Q1 (3)\n"
      ]
    },
    {
      "cell_type": "code",
      "execution_count": 60,
      "id": "4204eb72",
      "metadata": {
        "colab": {
          "base_uri": "https://localhost:8080/",
          "height": 612
        },
        "id": "4204eb72",
        "outputId": "1cf7342e-6f90-46b6-e964-5064a68ebfb4"
      },
      "outputs": [
        {
          "name": "stdout",
          "output_type": "stream",
          "text": [
            "Epoch 1/10\n",
            "469/469 [==============================] - 34s 70ms/step - loss: 0.0900 - accuracy: 0.1214 - val_loss: 0.0899 - val_accuracy: 0.1906\n",
            "Epoch 2/10\n",
            "469/469 [==============================] - 33s 70ms/step - loss: 0.0899 - accuracy: 0.2084 - val_loss: 0.0899 - val_accuracy: 0.2695\n",
            "Epoch 3/10\n",
            "469/469 [==============================] - 33s 70ms/step - loss: 0.0899 - accuracy: 0.2453 - val_loss: 0.0898 - val_accuracy: 0.2959\n",
            "Epoch 4/10\n",
            "469/469 [==============================] - 33s 71ms/step - loss: 0.0898 - accuracy: 0.2638 - val_loss: 0.0897 - val_accuracy: 0.3113\n",
            "Epoch 5/10\n",
            "469/469 [==============================] - 32s 69ms/step - loss: 0.0897 - accuracy: 0.2792 - val_loss: 0.0896 - val_accuracy: 0.3337\n",
            "Epoch 6/10\n",
            "469/469 [==============================] - 33s 71ms/step - loss: 0.0896 - accuracy: 0.2978 - val_loss: 0.0895 - val_accuracy: 0.3682\n",
            "Epoch 7/10\n",
            "469/469 [==============================] - 32s 69ms/step - loss: 0.0895 - accuracy: 0.3253 - val_loss: 0.0892 - val_accuracy: 0.4036\n",
            "Epoch 8/10\n",
            "469/469 [==============================] - 33s 70ms/step - loss: 0.0893 - accuracy: 0.3496 - val_loss: 0.0889 - val_accuracy: 0.4317\n",
            "Epoch 9/10\n",
            "469/469 [==============================] - 32s 68ms/step - loss: 0.0890 - accuracy: 0.3678 - val_loss: 0.0884 - val_accuracy: 0.4607\n",
            "Epoch 10/10\n",
            "469/469 [==============================] - 33s 71ms/step - loss: 0.0884 - accuracy: 0.3885 - val_loss: 0.0874 - val_accuracy: 0.4812\n"
          ]
        },
        {
          "data": {
            "image/png": "[encoded data removed]",
            "text/plain": [
              "<Figure size 432x288 with 1 Axes>"
            ]
          },
          "metadata": {
            "needs_background": "light"
          },
          "output_type": "display_data"
        }
      ],
      "source": [
        "\n",
        "import random\n",
        "for f in range(1,6):\n",
        "  print(\"Randomized \", (i*20), \"% of train labels\")\n",
        "  y_new = np.copy(y_train)\n",
        "  change = random.sample(range(len(y_train)), int(f*len(y_train)/5))\n",
        "  for i in change:\n",
        "    y_new[i] = np.zeros(10)\n",
        "    n = random.randint(0,9)\n",
        "    y_new[i][n] = 1\n",
        "  model_new = keras.Sequential(\n",
        "      [Conv2D(64,3,activation='relu',padding='same'),\n",
        "      Conv2D(64,3,activation='relu',padding='same'),\n",
        "      Conv2D(64,3,activation='relu',padding='same'),\n",
        "      Conv2D(64,3,activation='relu',padding='same'),\n",
        "      #MaxPool2D(2,2), #Pooling layer,\n",
        "      Flatten(),\n",
        "      layers.Dense(units=28*28,activation='relu'),\n",
        "      layers.Dense(units=28*14,activation='relu'),\n",
        "      layers.Dense(units=28*7,activation='relu'),\n",
        "      layers.Dense(units=28*2,activation='relu'),\n",
        "      layers.Dense(units=10, activation='softmax'),]\n",
        "  )\n",
        "  model_new.compile(\n",
        "      optimizer=\"sgd\",\n",
        "      loss=\"mse\",\n",
        "      metrics=\"accuracy\"\n",
        "  )\n",
        "  h = model_new.fit(\n",
        "      x_train, y_new,\n",
        "      validation_data=(x_test, y_test),\n",
        "      batch_size=128,\n",
        "      epochs=10,\n",
        "  #    callbacks=[early_stopping],\n",
        "  )\n",
        "  Loss = h.history['loss']\n",
        "  train_accuracy_new = h.history['accuracy']\n",
        "  test_accuracy_new = h.history['val_accuracy']\n",
        "  x = [i for i in range(1,11)]\n",
        "  plt.plot(x,train_accuracy_new,label='Train Accuracy')\n",
        "  plt.plot(x,test_accuracy_new,label='Test Accuracy')\n",
        "  plt.legend()\n",
        "  plt.show()"
      ]
    }
  ],
  "metadata": {
    "accelerator": "GPU",
    "colab": {
      "name": "2019101109_Assignment3_Q1.ipynb",
      "provenance": []
    },
    "kernelspec": {
      "display_name": "Python 3",
      "language": "python",
      "name": "python3"
    },
    "language_info": {
      "codemirror_mode": {
        "name": "ipython",
        "version": 3
      },
      "file_extension": ".py",
      "mimetype": "text/x-python",
      "name": "python",
      "nbconvert_exporter": "python",
      "pygments_lexer": "ipython3",
      "version": "3.9.7"
    }
  },
  "nbformat": 4,
  "nbformat_minor": 5
}
